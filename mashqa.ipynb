{
 "cells": [
  {
   "cell_type": "code",
   "execution_count": null,
   "metadata": {},
   "outputs": [],
   "source": [
    "import os\n",
    "import json\n",
    "import pandas as pd\n",
    "train_mashqa_processed_file = \"/Users/namrata/Downloads/Fall 2022/Healthcare/project/dataset/mashqa_data/processed/train.json\"\n",
    "# train_mashqa_processed_file = \"/Users/namrata/Downloads/Fall 2022/Healthcare/project/dataset/mashqa_data/processed/train.json\"\n",
    "# train_mashqa_processed_file = \"/Users/namrata/Downloads/Fall 2022/Healthcare/project/dataset/mashqa_data/processed/train.json\"\n",
    "\n",
    "data_file = \"/Users/namrata/Downloads/Fall 2022/Healthcare/project/dataset/mashqa_data/train_webmd_squad_v2_full.json\"\n",
    "r = json.load(open(data_file, 'r'))\n"
   ]
  },
  {
   "cell_type": "code",
   "execution_count": null,
   "metadata": {},
   "outputs": [],
   "source": [
    "df = pd.DataFrame()\n",
    "l = df.from_dict(r['data'])\n",
    "l = df.from_dict(l['paragraphs'])\n",
    "l['paragraphs'][0]"
   ]
  },
  {
   "cell_type": "code",
   "execution_count": null,
   "metadata": {},
   "outputs": [],
   "source": [
    "input_data = r['data']\n",
    "examples = []\n",
    "for entry in input_data:\n",
    "    for paragraph in entry[\"paragraphs\"]:\n",
    "        paragraph_text = paragraph[\"context\"]\n",
    "        sent_starts = paragraph['sent_starts']\n",
    "        for qa in paragraph[\"qas\"]:\n",
    "            qas_id = qa[\"id\"]\n",
    "            question_text = qa[\"question\"]\n",
    "            start_position = None\n",
    "            orig_answer_text = None\n",
    "            is_impossible = False\n",
    "            start_poses=[]\n",
    "#                 if is_training:\n",
    "            is_impossible = qa[\"is_impossible\"]\n",
    "            if (len(qa[\"answers\"]) != 1) and (not is_impossible):\n",
    "                raise ValueError(\n",
    "                        \"For training, each question should have exactly 1 answer.\")\n",
    "            if not is_impossible:\n",
    "                answer = qa[\"answers\"][0]\n",
    "                orig_answer_text = answer[\"text\"]\n",
    "                start_position = answer[\"answer_start\"]\n",
    "                start_poses = answer[\"answer_starts\"]\n",
    "            else:\n",
    "                start_position = -1\n",
    "                orig_answer_text = \"\"\n",
    "            example = {'qas_id': qas_id, 'question': question_text, 'context': paragraph_text, 'answer': orig_answer_text, 'is_impossible': is_impossible}\n",
    "            examples.append(example)\n",
    "\n",
    "print(examples[:5])\n",
    "json.dump(examples, open(mashqa_processed_file, 'w'))"
   ]
  }
 ],
 "metadata": {
  "language_info": {
   "name": "python"
  },
  "orig_nbformat": 4
 },
 "nbformat": 4,
 "nbformat_minor": 2
}
