{
 "cells": [
  {
   "cell_type": "code",
   "execution_count": null,
   "metadata": {},
   "outputs": [],
   "source": [
    "! pip install rich\n",
    "! pip install typing\n",
    "! pip install loguru"
   ]
  },
  {
   "cell_type": "code",
   "execution_count": 2,
   "metadata": {},
   "outputs": [
    {
     "name": "stderr",
     "output_type": "stream",
     "text": [
      "2022-12-10 11:01:02.557 | DEBUG    | infer_answer:infer_answer_from_choices:67 - Inferring labels from ['A', 'B', 'C', 'D'] failed. trying to match the provided options\n",
      "2022-12-10 11:01:02.558 | DEBUG    | infer_answer:infer_answer_from_choices:78 - Inferring labels from ['_option_A_', '_option_B_', '_option_C_', '_option_D_'] failed. trying to match the pre answer\n"
     ]
    },
    {
     "name": "stdout",
     "output_type": "stream",
     "text": [
      "Inferred answer: A\n",
      "Correct answer: A\n",
      "\n",
      "Inferred answer: C\n",
      "Correct answer: C\n",
      "\n",
      "Inferred answer: C\n",
      "Correct answer: C\n",
      "\n",
      "Inferred answer: D\n",
      "Correct answer: D\n",
      "\n"
     ]
    }
   ],
   "source": [
    "from infer_answer import infer_answer_from_choices\n",
    "\n",
    "examples = [\n",
    "    ('(A) i.e., Crypt hyperplasia.', \"A\", \"reasoning\"),\n",
    "    ('C. Gluten hypersensitivity is a condition in which the body reacts to gluten','C', \"reasoning\"),\n",
    "    ('Answer is C i.e., Internal jugular vein.o Jug','C', \"The Answer is actually in here: (C)\"),\n",
    "    ('Internal jugular vein.o Jug','D', \"The Answer is actually in here: (D)\"),\n",
    "]\n",
    "\n",
    "for example, correct, pre_answer in examples:\n",
    "    answer = infer_answer_from_choices(example, pre_answer=pre_answer, option_symbols=[\"A\", \"B\", \"C\", \"D\"], options=[\"_option_A_\", \"_option_B_\", \"_option_C_\", \"_option_D_\"])\n",
    "    print(\"Inferred answer: \" + str(answer))\n",
    "    print(\"Correct answer: \" + str(correct))\n",
    "    print()"
   ]
  },
  {
   "cell_type": "code",
   "execution_count": null,
   "metadata": {},
   "outputs": [],
   "source": []
  }
 ],
 "metadata": {
  "kernelspec": {
   "display_name": "heuristic_fairness",
   "language": "python",
   "name": "python3"
  },
  "language_info": {
   "codemirror_mode": {
    "name": "ipython",
    "version": 3
   },
   "file_extension": ".py",
   "mimetype": "text/x-python",
   "name": "python",
   "nbconvert_exporter": "python",
   "pygments_lexer": "ipython3",
   "version": "3.8.12"
  },
  "orig_nbformat": 4,
  "vscode": {
   "interpreter": {
    "hash": "6597d1ed23b894caf154b6750f098a8514a19e03807460ffd2d8425103778dc0"
   }
  }
 },
 "nbformat": 4,
 "nbformat_minor": 2
}
